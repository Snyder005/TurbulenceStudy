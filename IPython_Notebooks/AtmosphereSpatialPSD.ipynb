{
 "cells": [
  {
   "cell_type": "code",
   "execution_count": 1,
   "metadata": {
    "collapsed": true
   },
   "outputs": [],
   "source": [
    "## Import all necessary modules and set necessary directory paths\n",
    "\n",
    "import matplotlib\n",
    "%matplotlib inline\n",
    "from sklearn.neighbors import KDTree\n",
    "import numpy as np\n",
    "import matplotlib.pyplot as plt\n",
    "import matplotlib.pylab as pylab\n",
    "import sys\n",
    "import copy\n",
    "import corner\n",
    "\n",
    "from astropy.io import fits\n",
    "from astropy.stats import bootstrap\n",
    "from os.path import join, splitext\n",
    "from scipy import special as spspec\n",
    "from IPython.display import Image as im\n",
    "\n",
    "from Wavefront import Image, Telescope, TELESCOPE_DICT\n",
    "from Wavefront import wavecorr, waveplot, utils, wavefft\n",
    "\n",
    "import generate_grids as gg\n",
    "import gen_avg_per_unb as gapu\n",
    "import cdr_create_parameters as ccp\n",
    "\n",
    "pylab.rcParams['figure.figsize'] = 12, 8\n",
    "\n",
    "main_directory = '/nfs/slac/g/ki/ki19/lsst/snyder18'\n",
    "data_directory = '/nfs/slac/g/ki/ki19/lsst/snyder18/Data'\n",
    "results_directory = '/nfs/slac/g/ki/ki19/lsst/snyder18/Results'"
   ]
  },
  {
   "cell_type": "code",
   "execution_count": 34,
   "metadata": {
    "collapsed": false
   },
   "outputs": [
    {
     "data": {
      "text/plain": [
       "['avgZ_xi_dr_graph',\n",
       " 'Zernikes',\n",
       " 'Z_xi_dt_data',\n",
       " 'xi_dr_graph',\n",
       " 'xi_dt_data',\n",
       " 'avgZ_image',\n",
       " 'avgZ_xi_dr_data',\n",
       " 'avg_res_xi_dr_graph',\n",
       " 'Results',\n",
       " 'Z_xi_dt_graph',\n",
       " 'Graphs',\n",
       " 'xi_dt_graph',\n",
       " 'Base',\n",
       " 'Images',\n",
       " 'avg_res_xi_dr_data',\n",
       " 'xi_dr_data',\n",
       " 'Data']"
      ]
     },
     "execution_count": 34,
     "metadata": {},
     "output_type": "execute_result"
    }
   ],
   "source": [
    "## Choose a data file and telescope and create dictionary of file paths\n",
    "\n",
    "data_file = 'ugp_When_2014.5.15_5.33.20_poldm_phase.fits'\n",
    "telescope_name = 'GPI'\n",
    "telescope = TELESCOPE_DICT[telescope_name]\n",
    "pupil_mask = telescope.get_pupil((48,48), pix_scale=7.77/43)\n",
    "\n",
    "path_dict = utils.filepath_library(data_file, main_directory, telescope_name)\n",
    "\n",
    "path_dict.keys()"
   ]
  },
  {
   "cell_type": "code",
   "execution_count": 36,
   "metadata": {
    "collapsed": false
   },
   "outputs": [],
   "source": [
    "## Build test data\n",
    "image_list = Image.import_fits(path_dict['Data'])\n",
    "image = image_list[4600]\n",
    "image.mean_center(mask=pupil_mask)\n",
    "image.data = image.data*2*np.pi/0.5"
   ]
  },
  {
   "cell_type": "code",
   "execution_count": 37,
   "metadata": {
    "collapsed": true
   },
   "outputs": [],
   "source": [
    "def psd(image_list, n=48, alpha_mag=0.99):\n",
    "    \n",
    "    if not isinstance(image_list, list):\n",
    "        image_list = [image_list]\n",
    "    if len(image_list) == 0:\n",
    "        raise\n",
    "\n",
    "    # Gemini parameters. Change to read from FITS header or HDF5 metadata\n",
    "    bigD  = 7.770                   # primary diameter\n",
    "    bigDs = 1.024                   # inner M2 is 1.024 m\n",
    "    m     = 1.0                     # number of samples between actuators - usually 8.0\n",
    "\t# derived quantities\n",
    "    bign      = n*m                 # width of phase screen for aperture\n",
    "    nacross   = 43.0                # number of subaps across the pupil - latest GPI design is 43\n",
    "\t# for phase samples\n",
    "    pscale    = bigD/((nacross)*m)  # pixel size (m) of samples in pupil plane\n",
    "    d         = pscale*m            # subap diameter (m)\n",
    "\n",
    "    perlen = 8.\n",
    "    rate = 1000.\n",
    "    \n",
    "    cp_params = ccp.cdr_create_parameters(0)\n",
    "    r0s       = cp_params[:,0]\n",
    "    eff_r0    = (r0s**(-5./3.)).sum()**(-3./5.)\n",
    "\n",
    "    phdim = image_list[0].data.shape \n",
    "    phx   = phdim[0]\n",
    "    phy   = phdim[1]\n",
    "    timesteps = len(image_list)\n",
    "\n",
    "    ## Construct data from image_list\n",
    "    data = np.zeros((timesteps, phx, phy))\n",
    "    \n",
    "    for n, image in enumerate(image_list):\n",
    "        data[n,:,:] = image.data\n",
    "                \n",
    "    phFT = np.zeros((timesteps,phx,phy), dtype=complex)\n",
    "\n",
    "    #for t in np.arange(timesteps):\n",
    "    # by default, the transform is computed over the last two axes\n",
    "    # of the input array, i.e., a 2-dimensional FFT\n",
    "    # phFT = np.fft.fft2(hdulist[0].data) / (phx*phy) #* freq_dom_scaling \n",
    "    for t in np.arange(timesteps):\n",
    "        phFT[t,:,:] = np.fft.fft2(data[t,:,:]) / (phx*phy)\n",
    "    \n",
    "    mft = np.sum(phFT, axis=0)\n",
    "        \n",
    "    kx, ky = gg.generate_grids(phx, scalefac=2*np.pi/(bign*pscale), freqshift=True)\n",
    "    kr = np.sqrt(kx**2 + ky**2)\n",
    "    f = np.arange(perlen)\n",
    "    omega = 2*np.pi*f/rate\n",
    "    #shift array\n",
    "    hz = np.roll(f-perlen/2, np.int(perlen/2))/perlen*rate\n",
    "                \n",
    "    this_psd = np.zeros((perlen, phx, phy),dtype=float)\n",
    "    for k in np.arange(phx):\n",
    "        for l in np.arange(phy):\n",
    "            this_psd[:,k,l] = gapu.gen_avg_per_unb(phFT[:,k,l], perlen, meanrem=True)\n",
    "\n",
    "    varpsd = np.sum(this_psd, axis=0)\n",
    "\n",
    "    \n",
    "    # Plot spatial PSD\n",
    "    #print eff_r0\n",
    "    \n",
    "    plt.clf()\n",
    "    plt.yscale('log')\n",
    "    plt.xscale('log')\n",
    "    plt.plot(kr, varpsd, 'b.')\n",
    "#    plt.plot(kr[:,1], 0.490*(eff_r0)**(-5./3.)*kr[:,1]**(-11./3.), 'r-')\n",
    "    plt.ylim(1e-8,1e2)\n",
    "    plt.xlim(1,200)\n",
    "    plt.grid(True)\n",
    "\n",
    "    return kr.flatten(), varpsd.flatten()\n",
    "\n",
    "#    k = 4\n",
    "#    l = 4\n",
    "#    plt.clf()\n",
    "#    plt.yscale('log')\n",
    "#    plt.xlim(-200,200)\n",
    "#    plt.plot(hz, this_psd[:,4,4]/np.abs(1-alpha_mag*np.exp(-1j*2*np.pi*hz/rate))**2)\n",
    "    # 0.490*eff_r0**(-5./3.)*kr[4,4]**(-11./3.)/np.abs(1-alpha_mag*np.exp(-1j*2*np.pi*hz/rate))**2\n",
    "#    plt.grid(True)\n",
    "#    plt.show()"
   ]
  },
  {
   "cell_type": "code",
   "execution_count": 53,
   "metadata": {
    "collapsed": false
   },
   "outputs": [
    {
     "data": {
      "image/png": "[encoded data removed]",
      "text/plain": [
       "<matplotlib.figure.Figure at 0x7f247205c550>"
      ]
     },
     "metadata": {},
     "output_type": "display_data"
    }
   ],
   "source": [
    "x, y = psd(image_list)"
   ]
  },
  {
   "cell_type": "code",
   "execution_count": 56,
   "metadata": {
    "collapsed": true
   },
   "outputs": [],
   "source": [
    "## Remove the spurious tail at high spatial order and kr=0 term\n",
    "\n",
    "x = x[1:]\n",
    "y = y[1:]\n",
    "\n",
    "kr = x[x<10.5]\n",
    "F = y[x<10.5]\n",
    "\n",
    "#kr = x[1:]\n",
    "#F = y[1:] "
   ]
  },
  {
   "cell_type": "code",
   "execution_count": 57,
   "metadata": {
    "collapsed": false
   },
   "outputs": [
    {
     "data": {
      "text/plain": [
       "[<matplotlib.lines.Line2D at 0x7f247164ec10>]"
      ]
     },
     "execution_count": 57,
     "metadata": {},
     "output_type": "execute_result"
    },
    {
     "data": {
      "image/png": "[encoded data removed]",
      "text/plain": [
       "<matplotlib.figure.Figure at 0x7f24715b7510>"
      ]
     },
     "metadata": {},
     "output_type": "display_data"
    }
   ],
   "source": [
    "plt.yscale('log')\n",
    "plt.xscale('log')\n",
    "plt.plot(kr, F, 'b.')"
   ]
  },
  {
   "cell_type": "code",
   "execution_count": 58,
   "metadata": {
    "collapsed": false
   },
   "outputs": [],
   "source": [
    "par = np.polyfit(np.log10(kr), np.log10(F), 1)\n",
    "slope = par[0]\n",
    "intercept = par[1]"
   ]
  },
  {
   "cell_type": "code",
   "execution_count": 59,
   "metadata": {
    "collapsed": false
   },
   "outputs": [
    {
     "name": "stdout",
     "output_type": "stream",
     "text": [
      "-3.10443839491 -1.71192524543\n"
     ]
    }
   ],
   "source": [
    "print slope, intercept"
   ]
  },
  {
   "cell_type": "code",
   "execution_count": 60,
   "metadata": {
    "collapsed": false
   },
   "outputs": [
    {
     "name": "stdout",
     "output_type": "stream",
     "text": [
      "0.180517916556\n"
     ]
    }
   ],
   "source": [
    "print np.exp(intercept)"
   ]
  },
  {
   "cell_type": "code",
   "execution_count": 61,
   "metadata": {
    "collapsed": false
   },
   "outputs": [
    {
     "data": {
      "text/plain": [
       "[<matplotlib.lines.Line2D at 0x7f247207dcd0>,\n",
       " <matplotlib.lines.Line2D at 0x7f2471ff85d0>]"
      ]
     },
     "execution_count": 61,
     "metadata": {},
     "output_type": "execute_result"
    },
    {
     "data": {
      "image/png": "[encoded data removed]",
      "text/plain": [
       "<matplotlib.figure.Figure at 0x7f2471f03210>"
      ]
     },
     "metadata": {},
     "output_type": "display_data"
    }
   ],
   "source": [
    "plt.loglog(kr, (10**intercept)*kr**slope, 'r',\n",
    "         kr, F, 'b.')"
   ]
  },
  {
   "cell_type": "code",
   "execution_count": 33,
   "metadata": {
    "collapsed": false
   },
   "outputs": [
    {
     "data": {
      "text/plain": [
       "3.6666666666666665"
      ]
     },
     "execution_count": 33,
     "metadata": {},
     "output_type": "execute_result"
    }
   ],
   "source": []
  },
  {
   "cell_type": "code",
   "execution_count": null,
   "metadata": {
    "collapsed": true
   },
   "outputs": [],
   "source": []
  }
 ],
 "metadata": {
  "kernelspec": {
   "display_name": "Python 2",
   "language": "python",
   "name": "python2"
  },
  "language_info": {
   "codemirror_mode": {
    "name": "ipython",
    "version": 2
   },
   "file_extension": ".py",
   "mimetype": "text/x-python",
   "name": "python",
   "nbconvert_exporter": "python",
   "pygments_lexer": "ipython2",
   "version": "2.7.10"
  }
 },
 "nbformat": 4,
 "nbformat_minor": 0
}
