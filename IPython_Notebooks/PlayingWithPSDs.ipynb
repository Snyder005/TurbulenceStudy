{
 "cells": [
  {
   "cell_type": "code",
   "execution_count": 4,
   "metadata": {
    "collapsed": true
   },
   "outputs": [],
   "source": [
    "import matplotlib\n",
    "%matplotlib inline\n",
    "import numpy as np\n",
    "import matplotlib.pyplot as plt\n",
    "import matplotlib.pylab as pylab\n",
    "import os\n",
    "from scipy.signal import savgol_filter, periodogram, resample, csd\n",
    "from scipy.fftpack import ifft, fftshift\n",
    "from scipy.stats import norm\n",
    "from scipy.linalg import eigh, cholesky\n",
    "\n",
    "pylab.rcParams['figure.figsize'] = 16, 12\n",
    "\n",
    "## Set directories for convenience\n",
    "main_directory = '/nfs/slac/g/ki/ki19/lsst/snyder18'\n",
    "data_directory = '/nfs/slac/g/ki/ki19/lsst/snyder18/Data'\n",
    "results_directory = '/nfs/slac/g/ki/ki19/lsst/snyder18/Results'"
   ]
  },
  {
   "cell_type": "code",
   "execution_count": 5,
   "metadata": {
    "collapsed": true
   },
   "outputs": [],
   "source": [
    "## Get desired datasets using a list comprehension\n",
    "all_subdirectories = os.listdir(results_directory)\n",
    "\n",
    "subdirectories = [subdirectory for subdirectory in all_subdirectories if (\"poldm\" in subdirectory)\n",
    "                  if (\"GPI\" in subdirectory)]\n",
    "\n",
    "## Get the filepaths to the coefficients csv files\n",
    "zernike_coefficient_datapaths = [os.path.join(results_directory, subdirectory, '{}_coefficients.csv'.format(subdirectory))\n",
    "                                 for subdirectory in subdirectories]\n",
    "\n",
    "datafile = []\n",
    "Z_coefficients_all = []\n",
    "\n",
    "## Read each csv file and make a list of the resulting NumPy arrays\n",
    "for datapath in zernike_coefficient_datapaths:\n",
    "    \n",
    "    try:\n",
    "        datafile.append(datapath)\n",
    "        coefficients = np.loadtxt(datapath, dtype=np.float64, delimiter=',')\n",
    "        Z_coefficients_all.append(coefficients)\n",
    "    except IOError:\n",
    "        pass\n",
    "\n",
    "Z_coefficients = Z_coefficients_all[0]"
   ]
  },
  {
   "cell_type": "code",
   "execution_count": 3,
   "metadata": {
    "collapsed": false
   },
   "outputs": [
    {
     "ename": "NameError",
     "evalue": "name 'Z_frequencies' is not defined",
     "output_type": "error",
     "traceback": [
      "\u001b[1;31m---------------------------------------------------------------------------\u001b[0m",
      "\u001b[1;31mNameError\u001b[0m                                 Traceback (most recent call last)",
      "\u001b[1;32m<ipython-input-3-923b92182d74>\u001b[0m in \u001b[0;36m<module>\u001b[1;34m()\u001b[0m\n\u001b[0;32m      1\u001b[0m \u001b[0mF\u001b[0m\u001b[1;33m,\u001b[0m \u001b[0mZ5_PSD\u001b[0m \u001b[1;33m=\u001b[0m \u001b[0mperiodogram\u001b[0m\u001b[1;33m(\u001b[0m\u001b[0mZ_coefficients\u001b[0m\u001b[1;33m[\u001b[0m\u001b[1;36m4\u001b[0m\u001b[1;33m]\u001b[0m\u001b[1;33m,\u001b[0m \u001b[0mfs\u001b[0m\u001b[1;33m=\u001b[0m\u001b[1;36m1000.0\u001b[0m\u001b[1;33m,\u001b[0m \u001b[0mreturn_onesided\u001b[0m\u001b[1;33m=\u001b[0m\u001b[0mFalse\u001b[0m\u001b[1;33m)\u001b[0m\u001b[1;33m\u001b[0m\u001b[0m\n\u001b[0;32m      2\u001b[0m \u001b[0mZ5_PSD_pos\u001b[0m \u001b[1;33m=\u001b[0m \u001b[0mZ5_PSD\u001b[0m\u001b[1;33m[\u001b[0m\u001b[1;36m1\u001b[0m\u001b[1;33m:\u001b[0m\u001b[1;36m29950\u001b[0m\u001b[1;33m]\u001b[0m\u001b[1;33m\u001b[0m\u001b[0m\n\u001b[1;32m----> 3\u001b[1;33m \u001b[0mF_pos\u001b[0m \u001b[1;33m=\u001b[0m \u001b[0mZ_frequencies\u001b[0m\u001b[1;33m[\u001b[0m\u001b[1;36m1\u001b[0m\u001b[1;33m:\u001b[0m\u001b[1;36m29950\u001b[0m\u001b[1;33m]\u001b[0m\u001b[1;33m\u001b[0m\u001b[0m\n\u001b[0m\u001b[0;32m      4\u001b[0m \u001b[1;33m\u001b[0m\u001b[0m\n\u001b[0;32m      5\u001b[0m \u001b[0msmooth_Z5_PSD_pos\u001b[0m \u001b[1;33m=\u001b[0m \u001b[1;36m10\u001b[0m\u001b[1;33m**\u001b[0m\u001b[0msavgol_filter\u001b[0m\u001b[1;33m(\u001b[0m\u001b[0mnp\u001b[0m\u001b[1;33m.\u001b[0m\u001b[0mlog10\u001b[0m\u001b[1;33m(\u001b[0m\u001b[0mZ5_PSD_pos\u001b[0m\u001b[1;33m)\u001b[0m\u001b[1;33m,\u001b[0m \u001b[1;36m101\u001b[0m\u001b[1;33m,\u001b[0m \u001b[1;36m5\u001b[0m\u001b[1;33m)\u001b[0m\u001b[1;33m\u001b[0m\u001b[0m\n",
      "\u001b[1;31mNameError\u001b[0m: name 'Z_frequencies' is not defined"
     ]
    }
   ],
   "source": [
    "F, Z5_PSD = periodogram(Z_coefficients[4], fs=1000.0, return_onesided=False)\n",
    "Z5_PSD_pos = Z5_PSD[1:29950]\n",
    "F_pos = Z_frequencies[1:29950]\n",
    "\n",
    "smooth_Z5_PSD_pos = 10**savgol_filter(np.log10(Z5_PSD_pos), 101, 5)\n",
    "\n",
    "par = np.polyfit(np.log10(F_pos[F_pos>=1.]), np.log10(smooth_Z5_PSD_pos[F_pos>=1.]), 1)\n",
    "slope = par[0]\n",
    "intercept = par[1]\n",
    "\n",
    "f_array = np.logspace(0, np.log10(500), 1000)\n",
    "\n",
    "plt.semilogy(F_pos, smooth_Z5_PSD_pos, 'b',\n",
    "           f_array, 10**intercept*f_array**slope, 'r',\n",
    "           np.median(f_array), 10**intercept*np.median(f_array)**slope, 'go')\n",
    "plt.grid(b=True, which='both')\n",
    "#plt.scatter(np.log(f_mean), np.log(Z_mean))\n",
    "\n",
    "print slope, intercept"
   ]
  },
  {
   "cell_type": "code",
   "execution_count": null,
   "metadata": {
    "collapsed": false
   },
   "outputs": [],
   "source": [
    "def gen_zernike_series(PSD, scale_factor=42.1, rvs=None):\n",
    "    \n",
    "    N = PSD.shape[0]\n",
    "    \n",
    "    A = np.sqrt(PSD)\n",
    "    \n",
    "    if rvs is None:\n",
    "        rand = np.random.normal(size=N)\n",
    "    else:\n",
    "        rand = rvs\n",
    "    frand = np.fft.fft(rand)\n",
    "    \n",
    "    inverse = np.fft.ifft(frand*A)\n",
    "    \n",
    "    return scale_factor*inverse"
   ]
  },
  {
   "cell_type": "code",
   "execution_count": null,
   "metadata": {
    "collapsed": true
   },
   "outputs": [],
   "source": [
    "gen_Z5 = gen_zernike_series(Z5_PSD).real\n",
    "#plt.plot(test)"
   ]
  },
  {
   "cell_type": "code",
   "execution_count": null,
   "metadata": {
    "collapsed": false
   },
   "outputs": [],
   "source": [
    "gen_F, gen_Z5_PSD = periodogram(gen_Z5, fs=1000.0, return_onesided=False)\n",
    "gen_Z5_PSD_pos = gen_Z5_PSD[1:29950]\n",
    "gen_F_pos = gen_F[1:29950]\n",
    "\n",
    "smooth_gen_Z5_PSD_pos = 10**savgol_filter(np.log10(gen_Z5_PSD_pos), 101, 5)\n",
    "\n",
    "gen_par = np.polyfit(np.log10(gen_F_pos[gen_F_pos>=1.]), np.log10(smooth_gen_Z5_PSD_pos[gen_F_pos>=1.]), 1)\n",
    "gen_slope = gen_par[0]\n",
    "gen_intercept = gen_par[1]\n",
    "\n",
    "print gen_slope, gen_intercept"
   ]
  },
  {
   "cell_type": "code",
   "execution_count": null,
   "metadata": {
    "collapsed": false
   },
   "outputs": [],
   "source": [
    "plt.loglog(gen_F_pos, smooth_gen_Z5_PSD_pos, 'b',\n",
    "           F_pos, smooth_Z5_PSD_pos, 'r')"
   ]
  },
  {
   "cell_type": "markdown",
   "metadata": {},
   "source": [
    "## Generate Atmosphere"
   ]
  },
  {
   "cell_type": "code",
   "execution_count": null,
   "metadata": {
    "collapsed": true
   },
   "outputs": [],
   "source": [
    "#for i in range(Z_coefficients.shape[0]):\n",
    "\n",
    "#    ## Create smoothed PSD\n",
    "#    F, Z_PSD = periodogram(Z_coefficients[i], fs=1000.0, return_onesided=False)\n",
    "#    Z_PSD_pos = Z_PSD[1:29950]\n",
    "#    F_pos = Z_frequencies[1:29950]\n",
    "#\n",
    "#    smooth_Z_PSD_pos = 10**savgol_filter(np.log10(Z_PSD_pos), 101, 5)\n",
    "#\n",
    "#    par = np.polyfit(np.log10(F_pos[F_pos>=1.]), np.log10(smooth_Z_PSD_pos[F_pos>=1.]), 1)\n",
    "#    slope = par[0]\n",
    "#    intercept = par[1]\n",
    "#    \n",
    "#    gen_Z = gen_zernike_series(Z_PSD).real\n",
    "#\n",
    "#    gen_F, gen_Z_PSD = periodogram(gen_Z, fs=1000.0, return_onesided=False)\n",
    "#    gen_Z_PSD_pos = gen_Z_PSD[1:29950]\n",
    "#    gen_F_pos = gen_F[1:29950]\n",
    "#\n",
    "#    smooth_gen_Z_PSD_pos = 10**savgol_filter(np.log10(gen_Z_PSD_pos), 101, 5)\n",
    "#\n",
    "#    gen_par = np.polyfit(np.log10(gen_F_pos[gen_F_pos>=1.]), np.log10(smooth_gen_Z_PSD_pos[gen_F_pos>=1.]), 1)\n",
    "#    gen_slope = gen_par[0]\n",
    "#    gen_intercept = gen_par[1]\n",
    "#    \n",
    "#    slope_diff.append(slope-gen_slope)\n",
    "#    intercept_diff.append(intercept-gen_intercept)"
   ]
  },
  {
   "cell_type": "code",
   "execution_count": null,
   "metadata": {
    "collapsed": false
   },
   "outputs": [],
   "source": [
    "## Generate correlated continuous variables for each zernike\n",
    "corr_matrix = np.corrcoef(Z_coefficients)\n",
    "\n",
    "num_samples = Z_coefficients[0].shape[0]\n",
    "x = norm.rvs(size=(37, num_samples))\n",
    "c = cholesky(corr_matrix, lower=True)\n",
    "y = np.dot(c, x)"
   ]
  },
  {
   "cell_type": "code",
   "execution_count": null,
   "metadata": {
    "collapsed": false
   },
   "outputs": [],
   "source": [
    "gen_Z_coefficients = []\n",
    "\n",
    "for i in range(Z_coefficients.shape[0]):\n",
    "    \n",
    "    F, Z_PSD = periodogram(Z_coefficients[i], fs=1000.0, return_onesided=False)\n",
    "    gen_Z = gen_zernike_series(Z_PSD, rvs=y[0]).real\n",
    "    \n",
    "    gen_Z_coefficients.append(gen_Z)\n",
    "    \n",
    "gen_Z_coefficients = np.asarray(gen_Z_coefficients)"
   ]
  },
  {
   "cell_type": "code",
   "execution_count": null,
   "metadata": {
    "collapsed": false
   },
   "outputs": [],
   "source": [
    "test_corr = np.corrcoef(gen_Z_coefficients)\n",
    "plt.imshow(test_corr)"
   ]
  },
  {
   "cell_type": "code",
   "execution_count": null,
   "metadata": {
    "collapsed": false
   },
   "outputs": [],
   "source": [
    "plt.imshow(corr_matrix)"
   ]
  },
  {
   "cell_type": "code",
   "execution_count": 11,
   "metadata": {
    "collapsed": true
   },
   "outputs": [],
   "source": [
    "csd_F, CSD = csd(Z_coefficients[3], Z_coefficients[10], 1000.)"
   ]
  },
  {
   "cell_type": "code",
   "execution_count": 12,
   "metadata": {
    "collapsed": false
   },
   "outputs": [
    {
     "data": {
      "text/plain": [
       "[<matplotlib.lines.Line2D at 0x7f50640112d0>]"
      ]
     },
     "execution_count": 12,
     "metadata": {},
     "output_type": "execute_result"
    },
    {
     "data": {
      "image/png": "[encoded data removed]",
      "text/plain": [
       "<matplotlib.figure.Figure at 0x7f5063ee3490>"
      ]
     },
     "metadata": {},
     "output_type": "display_data"
    }
   ],
   "source": [
    "plt.semilogy(csd_F, np.abs(CSD))"
   ]
  },
  {
   "cell_type": "code",
   "execution_count": null,
   "metadata": {
    "collapsed": true
   },
   "outputs": [],
   "source": []
  }
 ],
 "metadata": {
  "kernelspec": {
   "display_name": "Python 2",
   "language": "python",
   "name": "python2"
  },
  "language_info": {
   "codemirror_mode": {
    "name": "ipython",
    "version": 2
   },
   "file_extension": ".py",
   "mimetype": "text/x-python",
   "name": "python",
   "nbconvert_exporter": "python",
   "pygments_lexer": "ipython2",
   "version": "2.7.11"
  }
 },
 "nbformat": 4,
 "nbformat_minor": 0
}
