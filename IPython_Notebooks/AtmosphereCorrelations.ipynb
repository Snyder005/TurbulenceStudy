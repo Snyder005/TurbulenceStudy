{
 "cells": [
  {
   "cell_type": "code",
   "execution_count": 1,
   "metadata": {
    "collapsed": true
   },
   "outputs": [],
   "source": [
    "import matplotlib\n",
    "%matplotlib inline\n",
    "from astropy.io import fits\n",
    "import os\n",
    "import matplotlib.pyplot as plt\n",
    "import numpy as np\n",
    "import corner\n",
    "\n",
    "data_directory = '/nfs/slac/g/ki/ki19/lsst/snyder18/Data'\n",
    "results_directory = '/nfs/slac/g/ki/ki19/lsst/snyder18/Results'"
   ]
  },
  {
   "cell_type": "code",
   "execution_count": 2,
   "metadata": {
    "collapsed": false
   },
   "outputs": [
    {
     "name": "stdout",
     "output_type": "stream",
     "text": [
      "166\n"
     ]
    }
   ],
   "source": [
    "fit_params = []\n",
    "phasepaths = []\n",
    "coefficients = []\n",
    "\n",
    "with open('phasefiles_filtered.txt', 'r') as f:\n",
    "    \n",
    "    for line in f:\n",
    "        \n",
    "\n",
    "        phasefile = \"aored_{0}_poldm_phase.fits\".format(line.rstrip())\n",
    "        phasedirectory = \"aored_{0}_poldm_phase_GPI\".format(line.rstrip())\n",
    "        \n",
    "        phasepath = os.path.join(data_directory, phasefile)\n",
    "        parameterpath = os.path.join(results_directory, phasedirectory, \n",
    "                                         'Graphs', '{}_PSD_fit.csv'.format(phasedirectory))\n",
    "        \n",
    "        coefficientpath = os.path.join(results_directory, phasedirectory,\n",
    "                                      '{}_coefficients.csv'.format(phasedirectory))\n",
    "        \n",
    "        coefficient = np.loadtxt(coefficientpath, dtype=np.float64, delimiter=',')\n",
    "        coefficients.append(coefficient)\n",
    "        \n",
    "        try:\n",
    "            fit = np.loadtxt(parameterpath, dtype=np.float64, delimiter=',')\n",
    "            fit_params.append(fit)\n",
    "            phasepaths.append(phasepath)\n",
    "        except IOError:\n",
    "            print phasefile\n",
    "            \n",
    "    print len(fit_params)"
   ]
  },
  {
   "cell_type": "code",
   "execution_count": 3,
   "metadata": {
    "collapsed": false
   },
   "outputs": [
    {
     "name": "stdout",
     "output_type": "stream",
     "text": [
      "/nfs/slac/g/ki/ki19/lsst/snyder18/Results/aored_When_2016.3.28_5.52.6_poldm_phase_GPI/aored_When_2016.3.28_5.52.6_poldm_phase_GPI_coefficients.csv\n"
     ]
    }
   ],
   "source": [
    "print coefficientpath"
   ]
  },
  {
   "cell_type": "code",
   "execution_count": 4,
   "metadata": {
    "collapsed": false
   },
   "outputs": [],
   "source": [
    "## Header keys for measurements that may be of interest\n",
    "\n",
    "aokeys = ['AOFOLDTP', 'AOFOLDTT']\n",
    "\n",
    "tempkeys = ['GLITEMP', 'GLOTEMP', 'AEXITEMP', 'AEXOTEMP', 'OMSATEMP', 'OMSMTEMP', 'IFSITEMP']\n",
    "\n",
    "humidkeys = ['EEHUMID', 'MEMHUMID', 'OMSHUMID', 'AMBHUMID'] \n",
    "\n",
    "misckeys = ['CALBTILT', 'CALBTIP', 'ELEVATION', 'PRESSURE', 'HUMIDITY', 'TAMBIENT', 'WINDSPEE', 'PAR_ANG', 'AZIMUTH', 'RA', \n",
    "            'DEC']\n",
    "\n",
    "masskeys = ['DIMMSEE', 'MASSEE', 'MASSTAU', 'MASS05CN', 'MASS1CN2',\n",
    "            'MASS2CN2', 'MASS4CN2', 'MASS4CN2', 'MASS8CN2', 'MASS16CN']\n",
    "\n",
    "windkeys = ['WINDSPEE', 'WINDM2']"
   ]
  },
  {
   "cell_type": "code",
   "execution_count": 5,
   "metadata": {
    "collapsed": true
   },
   "outputs": [],
   "source": [
    "## Get header variables for observations\n",
    "\n",
    "dimm_list = []  # broken nights\n",
    "mass_list = [] # broken nights\n",
    "t_list = [] # very few broken nights\n",
    "wind_list = []\n",
    "hum_list = []\n",
    "tau_list = [] # broken nights\n",
    "\n",
    "for phasepath in phasepaths:\n",
    "    hdulist = fits.open(phasepath, memmap=True)\n",
    "    dimm_list.append(float(hdulist[0].header['DIMMSEE']))\n",
    "    mass_list.append(float(hdulist[0].header['MASSEE']))\n",
    "    t_list.append(float(hdulist[0].header['TAMBIENT']))\n",
    "    wind_list.append(float(hdulist[0].header['WINDSPEE']))\n",
    "    hum_list.append(float(hdulist[0].header['HUMIDITY']))\n",
    "    tau_list.append(float(hdulist[0].header['MASSTAU']))\n",
    "    hdulist.close()"
   ]
  },
  {
   "cell_type": "code",
   "execution_count": 8,
   "metadata": {
    "collapsed": false
   },
   "outputs": [],
   "source": [
    "## Get Zernike PSD parameters\n",
    "\n",
    "Z_noll = 9\n",
    "\n",
    "slopes = np.asarray([fit[0, Z_noll-1] for fit in fit_params])\n",
    "intercepts = np.asarray([fit[1, Z_noll-1] for fit in fit_params])"
   ]
  },
  {
   "cell_type": "code",
   "execution_count": 17,
   "metadata": {
    "collapsed": false
   },
   "outputs": [
    {
     "data": {
      "text/plain": [
       "<matplotlib.collections.PathCollection at 0x7fd6a9904550>"
      ]
     },
     "execution_count": 17,
     "metadata": {},
     "output_type": "execute_result"
    },
    {
     "data": {
      "image/png": "[encoded data removed]",
      "text/plain": [
       "<matplotlib.figure.Figure at 0x7fd6a99faf10>"
      ]
     },
     "metadata": {},
     "output_type": "display_data"
    }
   ],
   "source": [
    "plt.scatter(tau_list, slopes)"
   ]
  },
  {
   "cell_type": "code",
   "execution_count": 18,
   "metadata": {
    "collapsed": false
   },
   "outputs": [
    {
     "data": {
      "text/plain": [
       "<matplotlib.collections.PathCollection at 0x7fd6a983bd90>"
      ]
     },
     "execution_count": 18,
     "metadata": {},
     "output_type": "execute_result"
    },
    {
     "data": {
      "image/png": "[encoded data removed]",
      "text/plain": [
       "<matplotlib.figure.Figure at 0x7fd6a98b8510>"
      ]
     },
     "metadata": {},
     "output_type": "display_data"
    }
   ],
   "source": [
    "plt.scatter(tau_list, intercepts)"
   ]
  },
  {
   "cell_type": "code",
   "execution_count": 26,
   "metadata": {
    "collapsed": false
   },
   "outputs": [
    {
     "name": "stdout",
     "output_type": "stream",
     "text": [
      "<type 'numpy.float64'>\n"
     ]
    }
   ],
   "source": [
    "print type(slopes[0])"
   ]
  },
  {
   "cell_type": "code",
   "execution_count": 39,
   "metadata": {
    "collapsed": false
   },
   "outputs": [
    {
     "data": {
      "text/plain": [
       "array([[ 1.       , -0.2788673],\n",
       "       [-0.2788673,  1.       ]])"
      ]
     },
     "execution_count": 39,
     "metadata": {},
     "output_type": "execute_result"
    }
   ],
   "source": [
    "np.corrcoef(tau_list, intercepts)"
   ]
  },
  {
   "cell_type": "code",
   "execution_count": 27,
   "metadata": {
    "collapsed": false
   },
   "outputs": [
    {
     "data": {
      "image/png": "[encoded data removed]",
      "text/plain": [
       "<matplotlib.figure.Figure at 0x7f30b42ce450>"
      ]
     },
     "metadata": {},
     "output_type": "display_data"
    }
   ],
   "source": [
    "Z_noll = 5\n",
    "\n",
    "var_list = []\n",
    "\n",
    "for coefficient in coefficients:\n",
    "    \n",
    "    var = np.var(coefficient[Z_noll-1, :])\n",
    "    var_list.append(var)\n",
    "    \n",
    "n, bins, patches = plt.hist(var_list, 30)\n",
    "plt.grid(True)"
   ]
  },
  {
   "cell_type": "code",
   "execution_count": 28,
   "metadata": {
    "collapsed": false
   },
   "outputs": [
    {
     "data": {
      "text/plain": [
       "<matplotlib.collections.PathCollection at 0x7f30b4597b50>"
      ]
     },
     "execution_count": 28,
     "metadata": {},
     "output_type": "execute_result"
    },
    {
     "data": {
      "image/png": "[encoded data removed]",
      "text/plain": [
       "<matplotlib.figure.Figure at 0x7f30b20a9ed0>"
      ]
     },
     "metadata": {},
     "output_type": "display_data"
    }
   ],
   "source": [
    "plt.scatter(var_list, wind_list)"
   ]
  },
  {
   "cell_type": "code",
   "execution_count": null,
   "metadata": {
    "collapsed": true
   },
   "outputs": [],
   "source": []
  }
 ],
 "metadata": {
  "kernelspec": {
   "display_name": "Python 2",
   "language": "python",
   "name": "python2"
  },
  "language_info": {
   "codemirror_mode": {
    "name": "ipython",
    "version": 2
   },
   "file_extension": ".py",
   "mimetype": "text/x-python",
   "name": "python",
   "nbconvert_exporter": "python",
   "pygments_lexer": "ipython2",
   "version": "2.7.11"
  }
 },
 "nbformat": 4,
 "nbformat_minor": 0
}
